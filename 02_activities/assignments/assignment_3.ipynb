{
 "cells": [
  {
   "cell_type": "markdown",
   "metadata": {},
   "source": [
    "# Assignment 3"
   ]
  },
  {
   "cell_type": "markdown",
   "metadata": {},
   "source": [
    "In this assigment, we will work with the *Forest Fire* data set. Please download the data from the [UCI Machine Learning Repository](https://archive.ics.uci.edu/dataset/162/forest+fires). Extract the data files into the subdirectory: `../data/fires/` (relative to `./src/`).\n",
    "\n",
    "## Objective\n",
    "\n",
    "+ The model objective is to predict the area affected by forest fires given the features set. \n",
    "+ The objective of this exercise is to assess your ability to construct and evaluate model pipelines.\n",
    "+ Please note: the instructions are not meant to be 100% prescriptive, but instead they are a set of minimum requirements. If you find predictive performance gains by applying additional steps, by all means show them. "
   ]
  },
  {
   "cell_type": "markdown",
   "metadata": {},
   "source": [
    "## Variable Description\n",
    "\n",
    "From the description file contained in the archive (`forestfires.names`), we obtain the following variable descriptions:\n",
    "\n",
    "1. X - x-axis spatial coordinate within the Montesinho park map: 1 to 9\n",
    "2. Y - y-axis spatial coordinate within the Montesinho park map: 2 to 9\n",
    "3. month - month of the year: \"jan\" to \"dec\" \n",
    "4. day - day of the week: \"mon\" to \"sun\"\n",
    "5. FFMC - FFMC index from the FWI system: 18.7 to 96.20\n",
    "6. DMC - DMC index from the FWI system: 1.1 to 291.3 \n",
    "7. DC - DC index from the FWI system: 7.9 to 860.6 \n",
    "8. ISI - ISI index from the FWI system: 0.0 to 56.10\n",
    "9. temp - temperature in Celsius degrees: 2.2 to 33.30\n",
    "10. RH - relative humidity in %: 15.0 to 100\n",
    "11. wind - wind speed in km/h: 0.40 to 9.40 \n",
    "12. rain - outside rain in mm/m2 : 0.0 to 6.4 \n",
    "13. area - the burned area of the forest (in ha): 0.00 to 1090.84 \n",
    "\n",
    "\n",
    "\n"
   ]
  },
  {
   "cell_type": "markdown",
   "metadata": {},
   "source": [
    "\n",
    "\n",
    "\n",
    "\n",
    "### Specific Tasks\n",
    "\n",
    "+ Construct four model pipelines, out of combinations of the following components:\n",
    "\n",
    "    + Preprocessors:\n",
    "\n",
    "        - A simple processor that only scales numeric variables and recodes categorical variables.\n",
    "        - A transformation preprocessor that scales numeric variables and applies a non-linear transformation.\n",
    "    \n",
    "    + Regressor:\n",
    "\n",
    "        - A baseline regressor, which could be a [K-nearest neighbours model](https://open.spotify.com/track/4R3AU2pjv8ge2siX1fVbZs?si=b2712f32da0e4358) or a simple [linear regression model](https://scikit-learn.org/stable/modules/linear_model.html)\n",
    "        - An advanced regressor of your choice (e.g., Random Forest, Neural Network, etc.)\n",
    "\n",
    "+ Evaluate tune and evaluate each of the four model pipelines. \n",
    "\n",
    "    - Select a [performance metric](https://scikit-learn.org/stable/modules/linear_model.html) out of the following options: explained variance, max error, root mean squared error (RMSE), mean absolute error (MAE), r-squared.\n",
    "    - *TIPS*: \n",
    "    \n",
    "        * Out of the suggested metrics above, [some are correlation metrics, but this is a prediction problem](https://www.tmwr.org/performance#performance). Choose wisely (and don't choose the incorrect options.) \n",
    "\n",
    "+ Select the best-performing model and explain its predictions.\n",
    "\n",
    "    - Provide local explanations.\n",
    "    - Obtain global explanations and recommend a variable selection strategy.\n",
    "\n",
    "+ Export your model as a pickle file.\n",
    "\n",
    "\n",
    "You can work on the Jupyter notebook, as this experiment is fairly short (no need to use sacred). "
   ]
  },
  {
   "cell_type": "markdown",
   "metadata": {},
   "source": [
    "# Load the data\n",
    "\n",
    "Assuming that the files `adult.data` and `adult.test` are in `../data/adult/`, then you can use the code below to load them.   // Looks like there must be forsetfires.csv"
   ]
  },
  {
   "cell_type": "code",
   "execution_count": 109,
   "metadata": {},
   "outputs": [
    {
     "name": "stderr",
     "output_type": "stream",
     "text": [
      "2024-07-05 15:54:01,781, 3969106436.py, 10, INFO,   coord_x coord_y  month  day  ffmc   dmc     dc  isi  temp  rh  wind  rain  \\\n",
      "0       X       Y  month  day  FFMC   DMC     DC  ISI  temp  RH  wind  rain   \n",
      "1       7       5    mar  fri  86.2  26.2   94.3  5.1   8.2  51   6.7     0   \n",
      "2       7       4    oct  tue  90.6  35.4  669.1  6.7    18  33   0.9     0   \n",
      "3       7       4    oct  sat  90.6  43.7  686.9  6.7  14.6  33   1.3     0   \n",
      "4       8       6    mar  fri  91.7  33.3   77.5    9   8.3  97     4   0.2   \n",
      "\n",
      "   area  \n",
      "0  area  \n",
      "1     0  \n",
      "2     0  \n",
      "3     0  \n",
      "4     0  \n",
      "2024-07-05 15:54:01,781, 3969106436.py, 10, INFO,   coord_x coord_y  month  day  ffmc   dmc     dc  isi  temp  rh  wind  rain  \\\n",
      "0       X       Y  month  day  FFMC   DMC     DC  ISI  temp  RH  wind  rain   \n",
      "1       7       5    mar  fri  86.2  26.2   94.3  5.1   8.2  51   6.7     0   \n",
      "2       7       4    oct  tue  90.6  35.4  669.1  6.7    18  33   0.9     0   \n",
      "3       7       4    oct  sat  90.6  43.7  686.9  6.7  14.6  33   1.3     0   \n",
      "4       8       6    mar  fri  91.7  33.3   77.5    9   8.3  97     4   0.2   \n",
      "\n",
      "   area  \n",
      "0  area  \n",
      "1     0  \n",
      "2     0  \n",
      "3     0  \n",
      "4     0  \n",
      "2024-07-05 15:54:01,781, 3969106436.py, 10, INFO,   coord_x coord_y  month  day  ffmc   dmc     dc  isi  temp  rh  wind  rain  \\\n",
      "0       X       Y  month  day  FFMC   DMC     DC  ISI  temp  RH  wind  rain   \n",
      "1       7       5    mar  fri  86.2  26.2   94.3  5.1   8.2  51   6.7     0   \n",
      "2       7       4    oct  tue  90.6  35.4  669.1  6.7    18  33   0.9     0   \n",
      "3       7       4    oct  sat  90.6  43.7  686.9  6.7  14.6  33   1.3     0   \n",
      "4       8       6    mar  fri  91.7  33.3   77.5    9   8.3  97     4   0.2   \n",
      "\n",
      "   area  \n",
      "0  area  \n",
      "1     0  \n",
      "2     0  \n",
      "3     0  \n",
      "4     0  \n",
      "2024-07-05 15:54:01,781, 3969106436.py, 10, INFO,   coord_x coord_y  month  day  ffmc   dmc     dc  isi  temp  rh  wind  rain  \\\n",
      "0       X       Y  month  day  FFMC   DMC     DC  ISI  temp  RH  wind  rain   \n",
      "1       7       5    mar  fri  86.2  26.2   94.3  5.1   8.2  51   6.7     0   \n",
      "2       7       4    oct  tue  90.6  35.4  669.1  6.7    18  33   0.9     0   \n",
      "3       7       4    oct  sat  90.6  43.7  686.9  6.7  14.6  33   1.3     0   \n",
      "4       8       6    mar  fri  91.7  33.3   77.5    9   8.3  97     4   0.2   \n",
      "\n",
      "   area  \n",
      "0  area  \n",
      "1     0  \n",
      "2     0  \n",
      "3     0  \n",
      "4     0  \n",
      "2024-07-05 15:54:01,781, 3969106436.py, 10, INFO,   coord_x coord_y  month  day  ffmc   dmc     dc  isi  temp  rh  wind  rain  \\\n",
      "0       X       Y  month  day  FFMC   DMC     DC  ISI  temp  RH  wind  rain   \n",
      "1       7       5    mar  fri  86.2  26.2   94.3  5.1   8.2  51   6.7     0   \n",
      "2       7       4    oct  tue  90.6  35.4  669.1  6.7    18  33   0.9     0   \n",
      "3       7       4    oct  sat  90.6  43.7  686.9  6.7  14.6  33   1.3     0   \n",
      "4       8       6    mar  fri  91.7  33.3   77.5    9   8.3  97     4   0.2   \n",
      "\n",
      "   area  \n",
      "0  area  \n",
      "1     0  \n",
      "2     0  \n",
      "3     0  \n",
      "4     0  \n",
      "2024-07-05 15:54:01,781, 3969106436.py, 10, INFO,   coord_x coord_y  month  day  ffmc   dmc     dc  isi  temp  rh  wind  rain  \\\n",
      "0       X       Y  month  day  FFMC   DMC     DC  ISI  temp  RH  wind  rain   \n",
      "1       7       5    mar  fri  86.2  26.2   94.3  5.1   8.2  51   6.7     0   \n",
      "2       7       4    oct  tue  90.6  35.4  669.1  6.7    18  33   0.9     0   \n",
      "3       7       4    oct  sat  90.6  43.7  686.9  6.7  14.6  33   1.3     0   \n",
      "4       8       6    mar  fri  91.7  33.3   77.5    9   8.3  97     4   0.2   \n",
      "\n",
      "   area  \n",
      "0  area  \n",
      "1     0  \n",
      "2     0  \n",
      "3     0  \n",
      "4     0  \n",
      "2024-07-05 15:54:01,781, 3969106436.py, 10, INFO,   coord_x coord_y  month  day  ffmc   dmc     dc  isi  temp  rh  wind  rain  \\\n",
      "0       X       Y  month  day  FFMC   DMC     DC  ISI  temp  RH  wind  rain   \n",
      "1       7       5    mar  fri  86.2  26.2   94.3  5.1   8.2  51   6.7     0   \n",
      "2       7       4    oct  tue  90.6  35.4  669.1  6.7    18  33   0.9     0   \n",
      "3       7       4    oct  sat  90.6  43.7  686.9  6.7  14.6  33   1.3     0   \n",
      "4       8       6    mar  fri  91.7  33.3   77.5    9   8.3  97     4   0.2   \n",
      "\n",
      "   area  \n",
      "0  area  \n",
      "1     0  \n",
      "2     0  \n",
      "3     0  \n",
      "4     0  \n",
      "2024-07-05 15:54:01,781, 3969106436.py, 10, INFO,   coord_x coord_y  month  day  ffmc   dmc     dc  isi  temp  rh  wind  rain  \\\n",
      "0       X       Y  month  day  FFMC   DMC     DC  ISI  temp  RH  wind  rain   \n",
      "1       7       5    mar  fri  86.2  26.2   94.3  5.1   8.2  51   6.7     0   \n",
      "2       7       4    oct  tue  90.6  35.4  669.1  6.7    18  33   0.9     0   \n",
      "3       7       4    oct  sat  90.6  43.7  686.9  6.7  14.6  33   1.3     0   \n",
      "4       8       6    mar  fri  91.7  33.3   77.5    9   8.3  97     4   0.2   \n",
      "\n",
      "   area  \n",
      "0  area  \n",
      "1     0  \n",
      "2     0  \n",
      "3     0  \n",
      "4     0  \n",
      "2024-07-05 15:54:01,781, 3969106436.py, 10, INFO,   coord_x coord_y  month  day  ffmc   dmc     dc  isi  temp  rh  wind  rain  \\\n",
      "0       X       Y  month  day  FFMC   DMC     DC  ISI  temp  RH  wind  rain   \n",
      "1       7       5    mar  fri  86.2  26.2   94.3  5.1   8.2  51   6.7     0   \n",
      "2       7       4    oct  tue  90.6  35.4  669.1  6.7    18  33   0.9     0   \n",
      "3       7       4    oct  sat  90.6  43.7  686.9  6.7  14.6  33   1.3     0   \n",
      "4       8       6    mar  fri  91.7  33.3   77.5    9   8.3  97     4   0.2   \n",
      "\n",
      "   area  \n",
      "0  area  \n",
      "1     0  \n",
      "2     0  \n",
      "3     0  \n",
      "4     0  \n",
      "2024-07-05 15:54:01,781, 3969106436.py, 10, INFO,   coord_x coord_y  month  day  ffmc   dmc     dc  isi  temp  rh  wind  rain  \\\n",
      "0       X       Y  month  day  FFMC   DMC     DC  ISI  temp  RH  wind  rain   \n",
      "1       7       5    mar  fri  86.2  26.2   94.3  5.1   8.2  51   6.7     0   \n",
      "2       7       4    oct  tue  90.6  35.4  669.1  6.7    18  33   0.9     0   \n",
      "3       7       4    oct  sat  90.6  43.7  686.9  6.7  14.6  33   1.3     0   \n",
      "4       8       6    mar  fri  91.7  33.3   77.5    9   8.3  97     4   0.2   \n",
      "\n",
      "   area  \n",
      "0  area  \n",
      "1     0  \n",
      "2     0  \n",
      "3     0  \n",
      "4     0  \n"
     ]
    }
   ],
   "source": [
    "import pandas as pd\n",
    "from logger import get_logger\n",
    "\n",
    "_logs = get_logger(__name__)\n",
    "\n",
    "columns = [\n",
    "    'coord_x', 'coord_y', 'month', 'day', 'ffmc', 'dmc', 'dc', 'isi', 'temp', 'rh', 'wind', 'rain', 'area' \n",
    "]\n",
    "fires_dt = (pd.read_csv('./data/fires/forestfires.csv', header = None, names = columns))\n",
    "_logs.info(fires_dt.head())\n"
   ]
  },
  {
   "cell_type": "markdown",
   "metadata": {},
   "source": [
    "# Get X and Y\n",
    "\n",
    "Create the features data frame and target data."
   ]
  },
  {
   "cell_type": "code",
   "execution_count": 110,
   "metadata": {},
   "outputs": [
    {
     "name": "stderr",
     "output_type": "stream",
     "text": [
      "2024-07-05 15:54:01,988, 2822058215.py, 8, INFO,     coord_x coord_y month  day  ffmc    dmc     dc  isi  temp  rh wind rain\n",
      "405       2       4   sep  wed  87.9   84.8  725.1  3.7  21.8  34  2.2    0\n",
      "331       3       3   sep  sat  92.2  102.3  751.5  8.4  24.2  27  3.1    0\n",
      "220       6       5   mar  mon  90.1   39.7   86.6  6.2  15.2  27  3.1    0\n",
      "148       8       3   sep  tue  84.4   73.4  671.9  3.2  24.2  28  3.6    0\n",
      "301       6       5   jun  mon  90.4   93.3  298.1  7.5  20.7  25  4.9    0\n",
      "2024-07-05 15:54:01,988, 2822058215.py, 8, INFO,     coord_x coord_y month  day  ffmc    dmc     dc  isi  temp  rh wind rain\n",
      "405       2       4   sep  wed  87.9   84.8  725.1  3.7  21.8  34  2.2    0\n",
      "331       3       3   sep  sat  92.2  102.3  751.5  8.4  24.2  27  3.1    0\n",
      "220       6       5   mar  mon  90.1   39.7   86.6  6.2  15.2  27  3.1    0\n",
      "148       8       3   sep  tue  84.4   73.4  671.9  3.2  24.2  28  3.6    0\n",
      "301       6       5   jun  mon  90.4   93.3  298.1  7.5  20.7  25  4.9    0\n",
      "2024-07-05 15:54:01,988, 2822058215.py, 8, INFO,     coord_x coord_y month  day  ffmc    dmc     dc  isi  temp  rh wind rain\n",
      "405       2       4   sep  wed  87.9   84.8  725.1  3.7  21.8  34  2.2    0\n",
      "331       3       3   sep  sat  92.2  102.3  751.5  8.4  24.2  27  3.1    0\n",
      "220       6       5   mar  mon  90.1   39.7   86.6  6.2  15.2  27  3.1    0\n",
      "148       8       3   sep  tue  84.4   73.4  671.9  3.2  24.2  28  3.6    0\n",
      "301       6       5   jun  mon  90.4   93.3  298.1  7.5  20.7  25  4.9    0\n",
      "2024-07-05 15:54:01,988, 2822058215.py, 8, INFO,     coord_x coord_y month  day  ffmc    dmc     dc  isi  temp  rh wind rain\n",
      "405       2       4   sep  wed  87.9   84.8  725.1  3.7  21.8  34  2.2    0\n",
      "331       3       3   sep  sat  92.2  102.3  751.5  8.4  24.2  27  3.1    0\n",
      "220       6       5   mar  mon  90.1   39.7   86.6  6.2  15.2  27  3.1    0\n",
      "148       8       3   sep  tue  84.4   73.4  671.9  3.2  24.2  28  3.6    0\n",
      "301       6       5   jun  mon  90.4   93.3  298.1  7.5  20.7  25  4.9    0\n",
      "2024-07-05 15:54:01,988, 2822058215.py, 8, INFO,     coord_x coord_y month  day  ffmc    dmc     dc  isi  temp  rh wind rain\n",
      "405       2       4   sep  wed  87.9   84.8  725.1  3.7  21.8  34  2.2    0\n",
      "331       3       3   sep  sat  92.2  102.3  751.5  8.4  24.2  27  3.1    0\n",
      "220       6       5   mar  mon  90.1   39.7   86.6  6.2  15.2  27  3.1    0\n",
      "148       8       3   sep  tue  84.4   73.4  671.9  3.2  24.2  28  3.6    0\n",
      "301       6       5   jun  mon  90.4   93.3  298.1  7.5  20.7  25  4.9    0\n",
      "2024-07-05 15:54:01,988, 2822058215.py, 8, INFO,     coord_x coord_y month  day  ffmc    dmc     dc  isi  temp  rh wind rain\n",
      "405       2       4   sep  wed  87.9   84.8  725.1  3.7  21.8  34  2.2    0\n",
      "331       3       3   sep  sat  92.2  102.3  751.5  8.4  24.2  27  3.1    0\n",
      "220       6       5   mar  mon  90.1   39.7   86.6  6.2  15.2  27  3.1    0\n",
      "148       8       3   sep  tue  84.4   73.4  671.9  3.2  24.2  28  3.6    0\n",
      "301       6       5   jun  mon  90.4   93.3  298.1  7.5  20.7  25  4.9    0\n",
      "2024-07-05 15:54:01,988, 2822058215.py, 8, INFO,     coord_x coord_y month  day  ffmc    dmc     dc  isi  temp  rh wind rain\n",
      "405       2       4   sep  wed  87.9   84.8  725.1  3.7  21.8  34  2.2    0\n",
      "331       3       3   sep  sat  92.2  102.3  751.5  8.4  24.2  27  3.1    0\n",
      "220       6       5   mar  mon  90.1   39.7   86.6  6.2  15.2  27  3.1    0\n",
      "148       8       3   sep  tue  84.4   73.4  671.9  3.2  24.2  28  3.6    0\n",
      "301       6       5   jun  mon  90.4   93.3  298.1  7.5  20.7  25  4.9    0\n",
      "2024-07-05 15:54:01,988, 2822058215.py, 8, INFO,     coord_x coord_y month  day  ffmc    dmc     dc  isi  temp  rh wind rain\n",
      "405       2       4   sep  wed  87.9   84.8  725.1  3.7  21.8  34  2.2    0\n",
      "331       3       3   sep  sat  92.2  102.3  751.5  8.4  24.2  27  3.1    0\n",
      "220       6       5   mar  mon  90.1   39.7   86.6  6.2  15.2  27  3.1    0\n",
      "148       8       3   sep  tue  84.4   73.4  671.9  3.2  24.2  28  3.6    0\n",
      "301       6       5   jun  mon  90.4   93.3  298.1  7.5  20.7  25  4.9    0\n",
      "2024-07-05 15:54:01,988, 2822058215.py, 8, INFO,     coord_x coord_y month  day  ffmc    dmc     dc  isi  temp  rh wind rain\n",
      "405       2       4   sep  wed  87.9   84.8  725.1  3.7  21.8  34  2.2    0\n",
      "331       3       3   sep  sat  92.2  102.3  751.5  8.4  24.2  27  3.1    0\n",
      "220       6       5   mar  mon  90.1   39.7   86.6  6.2  15.2  27  3.1    0\n",
      "148       8       3   sep  tue  84.4   73.4  671.9  3.2  24.2  28  3.6    0\n",
      "301       6       5   jun  mon  90.4   93.3  298.1  7.5  20.7  25  4.9    0\n",
      "2024-07-05 15:54:01,988, 2822058215.py, 8, INFO,     coord_x coord_y month  day  ffmc    dmc     dc  isi  temp  rh wind rain\n",
      "405       2       4   sep  wed  87.9   84.8  725.1  3.7  21.8  34  2.2    0\n",
      "331       3       3   sep  sat  92.2  102.3  751.5  8.4  24.2  27  3.1    0\n",
      "220       6       5   mar  mon  90.1   39.7   86.6  6.2  15.2  27  3.1    0\n",
      "148       8       3   sep  tue  84.4   73.4  671.9  3.2  24.2  28  3.6    0\n",
      "301       6       5   jun  mon  90.4   93.3  298.1  7.5  20.7  25  4.9    0\n"
     ]
    }
   ],
   "source": [
    "from sklearn.model_selection import train_test_split\n",
    "\n",
    "X = fires_dt.drop('area', axis = 1)\n",
    "Y = fires_dt['area']\n",
    "\n",
    "X_train, X_test, Y_train, Y_test = train_test_split(X, Y, test_size = 0.2, random_state = 42)\n",
    "\n",
    "_logs.info(X_train.head())\n"
   ]
  },
  {
   "cell_type": "markdown",
   "metadata": {},
   "source": [
    "# Preprocessing\n",
    "\n",
    "Create two [Column Transformers](https://scikit-learn.org/stable/modules/generated/sklearn.compose.ColumnTransformer.html), called preproc1 and preproc2, with the following guidelines:\n",
    "\n",
    "- Numerical variables\n",
    "\n",
    "    * (Preproc 1 and 2) Scaling: use a scaling method of your choice (Standard, Robust, Min-Max). \n",
    "    * Preproc 2 only: \n",
    "        \n",
    "        + Choose a transformation for any of your input variables (or several of them). Evaluate if this transformation is convenient.\n",
    "        + The choice of scaler is up to you.\n",
    "\n",
    "- Categorical variables: \n",
    "    \n",
    "    * (Preproc 1 and 2) Apply [one-hot encoding](https://scikit-learn.org/stable/modules/generated/sklearn.preprocessing.OneHotEncoder.html) where appropriate.\n",
    "\n",
    "\n",
    "+ The only difference between preproc1 and preproc2 is the non-linear transformation of the numerical variables.\n",
    "    \n"
   ]
  },
  {
   "cell_type": "markdown",
   "metadata": {},
   "source": [
    "### Preproc 1\n",
    "\n",
    "Create preproc1 below.\n",
    "\n",
    "+ Numeric: scaled variables, no other transforms.\n",
    "+ Categorical: one-hot encoding."
   ]
  },
  {
   "cell_type": "code",
   "execution_count": 111,
   "metadata": {},
   "outputs": [
    {
     "name": "stdout",
     "output_type": "stream",
     "text": [
      "    coord_x coord_y month  day  ffmc    dmc     dc  isi  temp  rh wind rain\n",
      "405       2       4   sep  wed  87.9   84.8  725.1  3.7  21.8  34  2.2    0\n",
      "331       3       3   sep  sat  92.2  102.3  751.5  8.4  24.2  27  3.1    0\n",
      "220       6       5   mar  mon  90.1   39.7   86.6  6.2  15.2  27  3.1    0\n",
      "148       8       3   sep  tue  84.4   73.4  671.9  3.2  24.2  28  3.6    0\n",
      "301       6       5   jun  mon  90.4   93.3  298.1  7.5  20.7  25  4.9    0\n"
     ]
    }
   ],
   "source": [
    "# preproc1\n",
    "from sklearn.compose import ColumnTransformer\n",
    "from sklearn.preprocessing import StandardScaler, OneHotEncoder\n",
    "from sklearn.pipeline import Pipeline\n",
    "\n",
    "numeric_features = ['coord_x', 'coord_y', 'ffmc', 'dmc', 'dc', 'isi', 'temp', 'rh', 'wind', 'rain']\n",
    "categorical_features = ['month', 'day']\n",
    "\n",
    "preproc1 = ColumnTransformer([\n",
    "    ('num', StandardScaler(), numeric_features),\n",
    "    ('cat', OneHotEncoder(handle_unknown='ignore'), categorical_features)\n",
    "])\n",
    "\n",
    "print(X_train.head())"
   ]
  },
  {
   "cell_type": "markdown",
   "metadata": {},
   "source": [
    "### Preproc 2\n",
    "\n",
    "Create preproc1 below.\n",
    "\n",
    "+ Numeric: scaled variables, non-linear transformation to one or more variables.\n",
    "+ Categorical: one-hot encoding."
   ]
  },
  {
   "cell_type": "code",
   "execution_count": 129,
   "metadata": {},
   "outputs": [],
   "source": [
    "# preproc2\n",
    "from sklearn.preprocessing import FunctionTransformer, PowerTransformer\n",
    "import numpy as np\n",
    "\n",
    "# area can't be transformed as this column is in our Y dataset\n",
    "#numeric_features_no_transform = ['coord_x', 'coord_y', 'ffmc', 'dmc', 'dc', 'isi', 'temp', 'rh', 'wind', 'rain']\n",
    "numeric_features = ['coord_x', 'coord_y', 'ffmc', 'dmc', 'dc', 'isi', 'temp', 'rh', 'wind', 'rain']\n",
    "\n",
    "#numeric_features_to_transform = ['area']\n",
    "\n",
    "\n",
    "def log_transform(x):\n",
    "    return np.log1p(x)\n",
    "\n",
    "log_transformer = Pipeline(steps=[\n",
    "    #('log', FunctionTransformer(log_transform, validate=True)),\n",
    "    ('num', Pipeline([\n",
    "        ('scaler', StandardScaler()),\n",
    "        ('transformer', PowerTransformer(method='yeo-johnson'))\n",
    "    ]), numeric_features),\n",
    "    ('scale', StandardScaler())\n",
    "])\n",
    "\n",
    "preproc2 = ColumnTransformer(\n",
    "    #transformers=[\n",
    "    #    #('num', StandardScaler(), numeric_features_no_transform),\n",
    "    #    ('num_transform', log_transformer, numeric_features),\n",
    "    #    ('cat', OneHotEncoder(handle_unknown='ignore'), categorical_features)\n",
    "    #]\n",
    "    transformers=[\n",
    "        ('num', Pipeline([\n",
    "            ('scaler', StandardScaler()),\n",
    "            ('transformer', PowerTransformer(method='yeo-johnson'))\n",
    "        ]), numeric_features),\n",
    "        ('cat', OneHotEncoder(handle_unknown='ignore'), categorical_features)\n",
    "    ]\n",
    ")"
   ]
  },
  {
   "cell_type": "markdown",
   "metadata": {},
   "source": [
    "## Model Pipeline\n",
    "\n",
    "\n",
    "Create a [model pipeline](https://scikit-learn.org/stable/modules/generated/sklearn.pipeline.Pipeline.html): \n",
    "\n",
    "+ Add a step labelled `preprocessing` and assign the Column Transformer from the previous section.\n",
    "+ Add a step labelled `regressor` and assign a regression model to it. \n",
    "\n",
    "## Regressor\n",
    "\n",
    "+ Use a regression model to perform a prediction. \n",
    "\n",
    "    - Choose a baseline regressor, tune it (if necessary) using grid search, and evaluate it using cross-validation.\n",
    "    - Choose a more advance regressor, tune it (if necessary) using grid search, and evaluate it using cross-validation.\n",
    "    - Both model choices are up to you, feel free to experiment."
   ]
  },
  {
   "cell_type": "code",
   "execution_count": 130,
   "metadata": {},
   "outputs": [],
   "source": [
    "# Pipeline A = preproc1 + baseline\n",
    "from sklearn.linear_model import LinearRegression\n",
    "from sklearn.ensemble import RandomForestRegressor\n",
    "\n",
    "baseline = LinearRegression()\n",
    "advanced = RandomForestRegressor()\n",
    "\n",
    "pipeline_a = Pipeline([\n",
    "    ('preprocessing', preproc1),\n",
    "    ('regressor', baseline)\n",
    "])"
   ]
  },
  {
   "cell_type": "code",
   "execution_count": 131,
   "metadata": {},
   "outputs": [],
   "source": [
    "# Pipeline B = preproc2 + baseline\n",
    "pipeline_b = Pipeline([\n",
    "    ('preprocessing', preproc2),\n",
    "    ('regressor', baseline)\n",
    "])"
   ]
  },
  {
   "cell_type": "code",
   "execution_count": 133,
   "metadata": {},
   "outputs": [],
   "source": [
    "# Pipeline C = preproc1 + advanced model\n",
    "\n",
    "pipeline_c = Pipeline([\n",
    "    ('preprocessing', preproc1),\n",
    "    ('regressor', advanced)\n",
    "])"
   ]
  },
  {
   "cell_type": "code",
   "execution_count": 132,
   "metadata": {},
   "outputs": [],
   "source": [
    "# Pipeline D = preproc2 + advanced model\n",
    "pipeline_d = Pipeline([\n",
    "    ('preprocessing', preproc2),\n",
    "    ('regressor', advanced)\n",
    "])"
   ]
  },
  {
   "cell_type": "markdown",
   "metadata": {},
   "source": [
    "# Tune Hyperparams\n",
    "\n",
    "+ Perform GridSearch on each of the four pipelines. \n",
    "+ Tune at least one hyperparameter per pipeline.\n",
    "+ Experiment with at least four value combinations per pipeline."
   ]
  },
  {
   "cell_type": "code",
   "execution_count": 143,
   "metadata": {},
   "outputs": [],
   "source": [
    "scoring = {\n",
    "    'neg_mean_squared_error': 'neg_mean_squared_error',\n",
    "    'neg_mean_absolute_error': 'neg_mean_absolute_error',\n",
    "    'r2': 'r2'\n",
    "}"
   ]
  },
  {
   "cell_type": "code",
   "execution_count": 144,
   "metadata": {},
   "outputs": [],
   "source": [
    "from sklearn.model_selection import GridSearchCV\n",
    "\n",
    "params_lr = {\n",
    "    'regressor__fit_intercept': [True, False],\n",
    "    'regressor__copy_X': [True, False],\n",
    "    'regressor__n_jobs': [None, -1],\n",
    "    'regressor__positive': [True, False]\n",
    "}\n",
    "\n",
    "params_rf = {\n",
    "    'regressor__bootstrap': [True, False],\n",
    "    'regressor__max_depth': [None, 10, 20, 30],\n",
    "    'regressor__n_estimators': [10, 50, 100, 200],\n",
    "    'regressor__min_samples_split': [2, 5, 10],\n",
    "    'regressor__min_samples_leaf': [1, 2, 4],\n",
    "}\n",
    "\n",
    "def grid_search_pipeline(pipeline, param_grid, X_train, y_train, scoring):\n",
    "    grid_search = GridSearchCV(pipeline, param_grid, cv=5, scoring=scoring, refit='neg_mean_squared_error', n_jobs=-1)\n",
    "    grid_search.fit(X_train, y_train)\n",
    "    return grid_search\n",
    "\n",
    "grid_search_a = grid_search_pipeline(pipeline_a, params_lr, X_train, Y_train, scoring)\n",
    "grid_search_b = grid_search_pipeline(pipeline_b, params_lr, X_train, Y_train, scoring)\n",
    "grid_search_c = grid_search_pipeline(pipeline_c, params_rf, X_train, Y_train, scoring)\n",
    "grid_search_d = grid_search_pipeline(pipeline_d, params_rf, X_train, Y_train, scoring)\n"
   ]
  },
  {
   "cell_type": "code",
   "execution_count": 149,
   "metadata": {},
   "outputs": [
    {
     "name": "stdout",
     "output_type": "stream",
     "text": [
      "Pipeline A best params:  {'regressor__copy_X': True, 'regressor__fit_intercept': False, 'regressor__n_jobs': None, 'regressor__positive': True}\n",
      "Pipeline A best score:  -5229.156343070289\n",
      "Pipeline B best params:  {'regressor__copy_X': True, 'regressor__fit_intercept': False, 'regressor__n_jobs': None, 'regressor__positive': True}\n",
      "Pipeline B best score:  -5245.555526689857\n",
      "Pipeline C best params:  {'regressor__bootstrap': True, 'regressor__max_depth': 20, 'regressor__min_samples_leaf': 4, 'regressor__min_samples_split': 10, 'regressor__n_estimators': 10}\n",
      "Pipeline C best score:  -5317.033862078361\n",
      "Pipeline D best params:  {'regressor__bootstrap': True, 'regressor__max_depth': 30, 'regressor__min_samples_leaf': 1, 'regressor__min_samples_split': 10, 'regressor__n_estimators': 50}\n",
      "Pipeline D best score:  -5367.0046425793325\n"
     ]
    }
   ],
   "source": [
    "print(\"Pipeline A best params: \", grid_search_a.best_params_)\n",
    "print(\"Pipeline A best score: \", grid_search_a.best_score_)\n",
    "print(\"Pipeline B best params: \", grid_search_b.best_params_)\n",
    "print(\"Pipeline B best score: \", grid_search_b.best_score_)\n",
    "print(\"Pipeline C best params: \", grid_search_c.best_params_)\n",
    "print(\"Pipeline C best score: \", grid_search_c.best_score_)\n",
    "print(\"Pipeline D best params: \", grid_search_d.best_params_)\n",
    "print(\"Pipeline D best score: \", grid_search_d.best_score_)"
   ]
  },
  {
   "cell_type": "markdown",
   "metadata": {},
   "source": [
    "# Evaluate\n",
    "\n",
    "+ Which model has the best performance?"
   ]
  },
  {
   "cell_type": "markdown",
   "metadata": {},
   "source": [
    "## Results\n",
    "\n",
    "Pipeline A (Linear Regression with StandardScaler):\n",
    "\n",
    "Best Params: {'regressor__copy_X': True, 'regressor__fit_intercept': False, 'regressor__n_jobs': None, 'regressor__positive': True}\n",
    "Best Score (Negative MSE): -5229.156343070289\n",
    "Pipeline B (Linear Regression with MinMaxScaler):\n",
    "\n",
    "Best Params: {'regressor__copy_X': True, 'regressor__fit_intercept': False, 'regressor__n_jobs': None, 'regressor__positive': True}\n",
    "Best Score (Negative MSE): -5245.555526689857\n",
    "Pipeline C (Random Forest with StandardScaler):\n",
    "\n",
    "Best Params: {'regressor__bootstrap': True, 'regressor__max_depth': 20, 'regressor__min_samples_leaf': 4, 'regressor__min_samples_split': 10, 'regressor__n_estimators': 10}\n",
    "Best Score (Negative MSE): -5317.033862078361\n",
    "Pipeline D (Random Forest with MinMaxScaler):\n",
    "\n",
    "Best Params: {'regressor__bootstrap': True, 'regressor__max_depth': 30, 'regressor__min_samples_leaf': 1, 'regressor__min_samples_split': 10, 'regressor__n_estimators': 50}\n",
    "Best Score (Negative MSE): -5367.0046425793325\n",
    "\n",
    "From these results, Pipeline A seems to have the best performance, with the highest (least negative) score.\n",
    "\n",
    "\n"
   ]
  },
  {
   "cell_type": "markdown",
   "metadata": {},
   "source": [
    "# Export\n",
    "\n",
    "+ Save the best performing model to a pickle file."
   ]
  },
  {
   "cell_type": "code",
   "execution_count": 150,
   "metadata": {},
   "outputs": [
    {
     "name": "stdout",
     "output_type": "stream",
     "text": [
      "Best Hyperparameters: {'regressor__copy_X': True, 'regressor__fit_intercept': False, 'regressor__n_jobs': None, 'regressor__positive': True}\n"
     ]
    }
   ],
   "source": [
    "import pickle\n",
    "\n",
    "best_params = grid_search_a.best_params_\n",
    "print(f'Best Hyperparameters: {best_params}')\n",
    "\n",
    "\n",
    "with open('best_model.pkl', 'wb') as model_file:\n",
    "    pickle.dump(grid_search_a, model_file)\n"
   ]
  },
  {
   "cell_type": "markdown",
   "metadata": {},
   "source": [
    "# Explain\n",
    "\n",
    "+ Use SHAP values to explain the following only for the best-performing model:\n",
    "\n",
    "    - Select an observation in your test set and explain which are the most important features that explain that observation's specific prediction.\n",
    "\n",
    "    - In general, across the complete training set, which features are the most and least important.\n",
    "\n",
    "+ If you were to remove features from the model, which ones would you remove? Why? How would you test that these features are actually enhancing model performance?"
   ]
  },
  {
   "cell_type": "code",
   "execution_count": null,
   "metadata": {},
   "outputs": [],
   "source": [
    "import shap\n",
    "\n",
    "# I'll finish soon. Couldn't finish on Sunday"
   ]
  },
  {
   "cell_type": "markdown",
   "metadata": {},
   "source": [
    "*(Answer here.)*"
   ]
  },
  {
   "cell_type": "markdown",
   "metadata": {},
   "source": [
    "## Submission Information\n",
    "\n",
    "🚨 **Please review our [Assignment Submission Guide](https://github.com/UofT-DSI/onboarding/blob/main/onboarding_documents/submissions.md)** 🚨 for detailed instructions on how to format, branch, and submit your work. Following these guidelines is crucial for your submissions to be evaluated correctly.\n",
    "\n",
    "### Submission Parameters:\n",
    "* Submission Due Date: `HH:MM AM/PM - DD/MM/YYYY`\n",
    "* The branch name for your repo should be: `assignment-3`\n",
    "* What to submit for this assignment:\n",
    "    * This Jupyter Notebook (assignment_3.ipynb) should be populated and should be the only change in your pull request.\n",
    "* What the pull request link should look like for this assignment: `https://github.com/<your_github_username>/production/pull/<pr_id>`\n",
    "    * Open a private window in your browser. Copy and paste the link to your pull request into the address bar. Make sure you can see your pull request properly. This helps the technical facilitator and learning support staff review your submission easily.\n",
    "\n",
    "Checklist:\n",
    "- [ ] Created a branch with the correct naming convention.\n",
    "- [ ] Ensured that the repository is public.\n",
    "- [ ] Reviewed the PR description guidelines and adhered to them.\n",
    "- [ ] Verify that the link is accessible in a private browser window.\n",
    "\n",
    "If you encounter any difficulties or have questions, please don't hesitate to reach out to our team via our Slack at `#cohort-3-help`. Our Technical Facilitators and Learning Support staff are here to help you navigate any challenges."
   ]
  },
  {
   "cell_type": "markdown",
   "metadata": {},
   "source": [
    "# Reference\n",
    "\n",
    "Cortez,Paulo and Morais,Anbal. (2008). Forest Fires. UCI Machine Learning Repository. https://doi.org/10.24432/C5D88D."
   ]
  }
 ],
 "metadata": {
  "kernelspec": {
   "display_name": "env",
   "language": "python",
   "name": "python3"
  },
  "language_info": {
   "codemirror_mode": {
    "name": "ipython",
    "version": 3
   },
   "file_extension": ".py",
   "mimetype": "text/x-python",
   "name": "python",
   "nbconvert_exporter": "python",
   "pygments_lexer": "ipython3",
   "version": "3.9.18"
  }
 },
 "nbformat": 4,
 "nbformat_minor": 2
}
